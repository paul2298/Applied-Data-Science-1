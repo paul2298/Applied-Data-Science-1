{
 "cells": [
  {
   "cell_type": "code",
   "execution_count": 1,
   "id": "cf061145",
   "metadata": {},
   "outputs": [],
   "source": [
    "# Importing necessary packages\n",
    "import numpy as np\n",
    "import pandas as pd\n",
    "import matplotlib.pyplot as plt"
   ]
  },
  {
   "cell_type": "code",
   "execution_count": 2,
   "id": "c699a9d4",
   "metadata": {},
   "outputs": [],
   "source": [
    "# Reading the file\n",
    "df = pd.read_csv('CarBuyers.csv')"
   ]
  },
  {
   "cell_type": "code",
   "execution_count": 3,
   "id": "125e598a",
   "metadata": {},
   "outputs": [],
   "source": [
    "# Dropping the column Unknown \n",
    "df = df.drop(columns='Unknown')"
   ]
  },
  {
   "cell_type": "code",
   "execution_count": 4,
   "id": "7bfbd845",
   "metadata": {},
   "outputs": [
    {
     "data": {
      "text/plain": [
       "Manufacturer    0\n",
       "Model           0\n",
       "Price           0\n",
       "Transmission    0\n",
       "Power           0\n",
       "Engine CC       0\n",
       "Fuel            0\n",
       "Male            0\n",
       "Female          0\n",
       "Total           0\n",
       "dtype: int64"
      ]
     },
     "execution_count": 4,
     "metadata": {},
     "output_type": "execute_result"
    }
   ],
   "source": [
    "# To check if there is any null values in any column\n",
    "df.isnull().sum()"
   ]
  },
  {
   "cell_type": "code",
   "execution_count": 5,
   "id": "4a0aa200",
   "metadata": {},
   "outputs": [
    {
     "data": {
      "text/plain": [
       "Manufacturer     object\n",
       "Model            object\n",
       "Price           float64\n",
       "Transmission    float64\n",
       "Power           float64\n",
       "Engine CC       float64\n",
       "Fuel             object\n",
       "Male             object\n",
       "Female           object\n",
       "Total            object\n",
       "dtype: object"
      ]
     },
     "execution_count": 5,
     "metadata": {},
     "output_type": "execute_result"
    }
   ],
   "source": [
    "# Shows the datatype of each column in the dataframe\n",
    "df.dtypes"
   ]
  },
  {
   "cell_type": "code",
   "execution_count": 6,
   "id": "e58e188b",
   "metadata": {},
   "outputs": [],
   "source": [
    "# Converting the columns with object datatype to integer datatype\n",
    "def to_integer(x):                               # Function to remove ',' in the digits\n",
    "    return(int(x.replace(',','')))    \n",
    "for i in ['Male', 'Female', 'Total']:            # Converts each no. in each cell of the particular column\n",
    "    df[i] = df[i].map(to_integer)                # to the no. with \",\" and the column gets converted to integer datatype"
   ]
  },
  {
   "cell_type": "code",
   "execution_count": 7,
   "id": "18c89761",
   "metadata": {},
   "outputs": [
    {
     "data": {
      "text/plain": [
       "Manufacturer     object\n",
       "Model            object\n",
       "Price           float64\n",
       "Transmission    float64\n",
       "Power           float64\n",
       "Engine CC       float64\n",
       "Fuel             object\n",
       "Male              int64\n",
       "Female            int64\n",
       "Total             int64\n",
       "dtype: object"
      ]
     },
     "execution_count": 7,
     "metadata": {},
     "output_type": "execute_result"
    }
   ],
   "source": [
    "df.dtypes"
   ]
  },
  {
   "cell_type": "code",
   "execution_count": 8,
   "id": "dc7a0982",
   "metadata": {},
   "outputs": [
    {
     "data": {
      "text/html": [
       "<div>\n",
       "<style scoped>\n",
       "    .dataframe tbody tr th:only-of-type {\n",
       "        vertical-align: middle;\n",
       "    }\n",
       "\n",
       "    .dataframe tbody tr th {\n",
       "        vertical-align: top;\n",
       "    }\n",
       "\n",
       "    .dataframe thead th {\n",
       "        text-align: right;\n",
       "    }\n",
       "</style>\n",
       "<table border=\"1\" class=\"dataframe\">\n",
       "  <thead>\n",
       "    <tr style=\"text-align: right;\">\n",
       "      <th></th>\n",
       "      <th>Manufacturer</th>\n",
       "      <th>Model</th>\n",
       "      <th>Price</th>\n",
       "      <th>Transmission</th>\n",
       "      <th>Power</th>\n",
       "      <th>Engine CC</th>\n",
       "      <th>Fuel</th>\n",
       "      <th>Male</th>\n",
       "      <th>Female</th>\n",
       "      <th>Total</th>\n",
       "    </tr>\n",
       "  </thead>\n",
       "  <tbody>\n",
       "    <tr>\n",
       "      <th>0</th>\n",
       "      <td>Abarth</td>\n",
       "      <td>500C</td>\n",
       "      <td>21.105625</td>\n",
       "      <td>5.000000</td>\n",
       "      <td>60.625000</td>\n",
       "      <td>1039.500000</td>\n",
       "      <td>petrol</td>\n",
       "      <td>7124</td>\n",
       "      <td>4719</td>\n",
       "      <td>12413</td>\n",
       "    </tr>\n",
       "    <tr>\n",
       "      <th>1</th>\n",
       "      <td>Alfa-Romeo</td>\n",
       "      <td>145</td>\n",
       "      <td>17.427143</td>\n",
       "      <td>5.000000</td>\n",
       "      <td>87.714286</td>\n",
       "      <td>1696.428571</td>\n",
       "      <td>petrol</td>\n",
       "      <td>29993</td>\n",
       "      <td>11855</td>\n",
       "      <td>44034</td>\n",
       "    </tr>\n",
       "    <tr>\n",
       "      <th>2</th>\n",
       "      <td>Alfa-Romeo</td>\n",
       "      <td>146</td>\n",
       "      <td>18.198429</td>\n",
       "      <td>5.000000</td>\n",
       "      <td>87.714286</td>\n",
       "      <td>1696.428571</td>\n",
       "      <td>petrol</td>\n",
       "      <td>40928</td>\n",
       "      <td>14231</td>\n",
       "      <td>58128</td>\n",
       "    </tr>\n",
       "    <tr>\n",
       "      <th>3</th>\n",
       "      <td>Alfa-Romeo</td>\n",
       "      <td>147</td>\n",
       "      <td>25.343387</td>\n",
       "      <td>5.193548</td>\n",
       "      <td>95.096774</td>\n",
       "      <td>1802.774194</td>\n",
       "      <td>petrol</td>\n",
       "      <td>149499</td>\n",
       "      <td>83501</td>\n",
       "      <td>246278</td>\n",
       "    </tr>\n",
       "    <tr>\n",
       "      <th>4</th>\n",
       "      <td>Alfa-Romeo</td>\n",
       "      <td>155</td>\n",
       "      <td>23.909333</td>\n",
       "      <td>5.000000</td>\n",
       "      <td>100.666667</td>\n",
       "      <td>2016.777778</td>\n",
       "      <td>petrol</td>\n",
       "      <td>28860</td>\n",
       "      <td>4422</td>\n",
       "      <td>34473</td>\n",
       "    </tr>\n",
       "    <tr>\n",
       "      <th>...</th>\n",
       "      <td>...</td>\n",
       "      <td>...</td>\n",
       "      <td>...</td>\n",
       "      <td>...</td>\n",
       "      <td>...</td>\n",
       "      <td>...</td>\n",
       "      <td>...</td>\n",
       "      <td>...</td>\n",
       "      <td>...</td>\n",
       "      <td>...</td>\n",
       "    </tr>\n",
       "    <tr>\n",
       "      <th>497</th>\n",
       "      <td>Volvo</td>\n",
       "      <td>V50</td>\n",
       "      <td>36.524191</td>\n",
       "      <td>5.176471</td>\n",
       "      <td>113.352941</td>\n",
       "      <td>2106.500000</td>\n",
       "      <td>petrol</td>\n",
       "      <td>154491</td>\n",
       "      <td>59796</td>\n",
       "      <td>227447</td>\n",
       "    </tr>\n",
       "    <tr>\n",
       "      <th>498</th>\n",
       "      <td>Volvo</td>\n",
       "      <td>V60</td>\n",
       "      <td>50.484130</td>\n",
       "      <td>7.304348</td>\n",
       "      <td>150.608696</td>\n",
       "      <td>1969.000000</td>\n",
       "      <td>diesel</td>\n",
       "      <td>7831</td>\n",
       "      <td>2169</td>\n",
       "      <td>10720</td>\n",
       "    </tr>\n",
       "    <tr>\n",
       "      <th>499</th>\n",
       "      <td>Volvo</td>\n",
       "      <td>V70</td>\n",
       "      <td>50.961091</td>\n",
       "      <td>6.181818</td>\n",
       "      <td>135.290909</td>\n",
       "      <td>1971.163636</td>\n",
       "      <td>diesel</td>\n",
       "      <td>703323</td>\n",
       "      <td>167052</td>\n",
       "      <td>928874</td>\n",
       "    </tr>\n",
       "    <tr>\n",
       "      <th>500</th>\n",
       "      <td>Volvo</td>\n",
       "      <td>XC70</td>\n",
       "      <td>58.469074</td>\n",
       "      <td>6.444444</td>\n",
       "      <td>148.518518</td>\n",
       "      <td>2174.037037</td>\n",
       "      <td>diesel</td>\n",
       "      <td>60529</td>\n",
       "      <td>17470</td>\n",
       "      <td>83607</td>\n",
       "    </tr>\n",
       "    <tr>\n",
       "      <th>501</th>\n",
       "      <td>Volvo</td>\n",
       "      <td>XC90</td>\n",
       "      <td>85.829462</td>\n",
       "      <td>8.000000</td>\n",
       "      <td>213.153846</td>\n",
       "      <td>1969.000000</td>\n",
       "      <td>petrol</td>\n",
       "      <td>164061</td>\n",
       "      <td>76654</td>\n",
       "      <td>258012</td>\n",
       "    </tr>\n",
       "  </tbody>\n",
       "</table>\n",
       "<p>502 rows × 10 columns</p>\n",
       "</div>"
      ],
      "text/plain": [
       "    Manufacturer Model      Price  Transmission       Power    Engine CC  \\\n",
       "0         Abarth  500C  21.105625      5.000000   60.625000  1039.500000   \n",
       "1     Alfa-Romeo   145  17.427143      5.000000   87.714286  1696.428571   \n",
       "2     Alfa-Romeo   146  18.198429      5.000000   87.714286  1696.428571   \n",
       "3     Alfa-Romeo   147  25.343387      5.193548   95.096774  1802.774194   \n",
       "4     Alfa-Romeo   155  23.909333      5.000000  100.666667  2016.777778   \n",
       "..           ...   ...        ...           ...         ...          ...   \n",
       "497        Volvo   V50  36.524191      5.176471  113.352941  2106.500000   \n",
       "498        Volvo   V60  50.484130      7.304348  150.608696  1969.000000   \n",
       "499        Volvo   V70  50.961091      6.181818  135.290909  1971.163636   \n",
       "500        Volvo  XC70  58.469074      6.444444  148.518518  2174.037037   \n",
       "501        Volvo  XC90  85.829462      8.000000  213.153846  1969.000000   \n",
       "\n",
       "       Fuel    Male  Female   Total  \n",
       "0    petrol    7124    4719   12413  \n",
       "1    petrol   29993   11855   44034  \n",
       "2    petrol   40928   14231   58128  \n",
       "3    petrol  149499   83501  246278  \n",
       "4    petrol   28860    4422   34473  \n",
       "..      ...     ...     ...     ...  \n",
       "497  petrol  154491   59796  227447  \n",
       "498  diesel    7831    2169   10720  \n",
       "499  diesel  703323  167052  928874  \n",
       "500  diesel   60529   17470   83607  \n",
       "501  petrol  164061   76654  258012  \n",
       "\n",
       "[502 rows x 10 columns]"
      ]
     },
     "execution_count": 8,
     "metadata": {},
     "output_type": "execute_result"
    }
   ],
   "source": [
    "# New dataframe with the data grouped by the all the features present in the old dataframe 'df'\n",
    "new_df = df.groupby(['Manufacturer', 'Model', 'Price', 'Transmission', 'Power', 'Engine CC','Fuel'],as_index=False).sum()\n",
    "new_df"
   ]
  },
  {
   "cell_type": "code",
   "execution_count": 9,
   "id": "bbf9d140",
   "metadata": {},
   "outputs": [
    {
     "data": {
      "text/plain": [
       "(502, 10)"
      ]
     },
     "execution_count": 9,
     "metadata": {},
     "output_type": "execute_result"
    }
   ],
   "source": [
    "# Shape of the new dataframe\n",
    "new_df.shape"
   ]
  },
  {
   "cell_type": "code",
   "execution_count": 10,
   "id": "f668a50f",
   "metadata": {},
   "outputs": [
    {
     "data": {
      "text/plain": [
       "52"
      ]
     },
     "execution_count": 10,
     "metadata": {},
     "output_type": "execute_result"
    }
   ],
   "source": [
    "# To find the no. of the unique datas in the column 'Manufacturer'\n",
    "len(new_df['Manufacturer'].unique())"
   ]
  },
  {
   "cell_type": "code",
   "execution_count": 11,
   "id": "a68e5e2e",
   "metadata": {},
   "outputs": [
    {
     "data": {
      "text/plain": [
       "array(['petrol', 'diesel', 'automatic'], dtype=object)"
      ]
     },
     "execution_count": 11,
     "metadata": {},
     "output_type": "execute_result"
    }
   ],
   "source": [
    "# To find the unique datas in the column 'Fuel'\n",
    "new_df['Fuel'].unique()"
   ]
  },
  {
   "cell_type": "code",
   "execution_count": 12,
   "id": "bae3b569",
   "metadata": {},
   "outputs": [
    {
     "data": {
      "text/plain": [
       "Peugeot         31\n",
       "Audi            24\n",
       "Ford            24\n",
       "Fiat            23\n",
       "Renault         23\n",
       "Volkswagen      23\n",
       "Toyota          23\n",
       "Nissan          22\n",
       "Hyundai         19\n",
       "Citroen         18\n",
       "Mercedes        17\n",
       "Honda           17\n",
       "Volvo           17\n",
       "Mazda           16\n",
       "BMW             15\n",
       "Suzuki          13\n",
       "Kia             13\n",
       "Skoda           12\n",
       "Alfa-Romeo      12\n",
       "Seat            11\n",
       "Mitsubishi       9\n",
       "Chevrolet        9\n",
       "Porsche          8\n",
       "Opel             7\n",
       "Rover            6\n",
       "Subaru           6\n",
       "Jaguar           6\n",
       "Chrysler         6\n",
       "Saab             5\n",
       "Daihatsu         5\n",
       "Mini             5\n",
       "Smart            4\n",
       "Ssangyong        4\n",
       "MG               4\n",
       "Land-Rover       4\n",
       "Lancia           4\n",
       "Daewoo           4\n",
       "Lexus            3\n",
       "Dodge            3\n",
       "Datsun           3\n",
       "Daimler          3\n",
       "Aston-Martin     3\n",
       "Lada             3\n",
       "TVR              2\n",
       "Triumph          2\n",
       "Lotus            2\n",
       "Morris           2\n",
       "Ferrari          2\n",
       "Dacia            2\n",
       "Maserati         1\n",
       "Bentley          1\n",
       "Abarth           1\n",
       "Name: Manufacturer, dtype: int64"
      ]
     },
     "execution_count": 12,
     "metadata": {},
     "output_type": "execute_result"
    }
   ],
   "source": [
    "# Finds the no. of entries present with the same manufacturer\n",
    "new_df['Manufacturer'].value_counts()"
   ]
  },
  {
   "cell_type": "code",
   "execution_count": 13,
   "id": "4e145d35",
   "metadata": {},
   "outputs": [
    {
     "data": {
      "text/plain": [
       "Text(0.5, 1.0, 'Comparison between which fuel catgory cars were preferred the most')"
      ]
     },
     "execution_count": 13,
     "metadata": {},
     "output_type": "execute_result"
    },
    {
     "data": {
      "image/png": "[encoded data removed]",
      "text/plain": [
       "<Figure size 432x288 with 1 Axes>"
      ]
     },
     "metadata": {
      "needs_background": "light"
     },
     "output_type": "display_data"
    }
   ],
   "source": [
    "fuel = new_df.groupby('Fuel', as_index=False)['Model'].count()    # Gets the count of how many models of a particular fuel types are bought\n",
    "plt.bar(fuel['Fuel'],fuel['Model']) # From a bar chart, we can see which groups are highest or most common, \n",
    "                                    # and how other groups compare against the others.\n",
    "plt.title(\"Comparison between which fuel catgory cars were preferred the most\")"
   ]
  },
  {
   "cell_type": "code",
   "execution_count": 14,
   "id": "d11c2442",
   "metadata": {},
   "outputs": [
    {
     "data": {
      "text/html": [
       "<div>\n",
       "<style scoped>\n",
       "    .dataframe tbody tr th:only-of-type {\n",
       "        vertical-align: middle;\n",
       "    }\n",
       "\n",
       "    .dataframe tbody tr th {\n",
       "        vertical-align: top;\n",
       "    }\n",
       "\n",
       "    .dataframe thead th {\n",
       "        text-align: right;\n",
       "    }\n",
       "</style>\n",
       "<table border=\"1\" class=\"dataframe\">\n",
       "  <thead>\n",
       "    <tr style=\"text-align: right;\">\n",
       "      <th></th>\n",
       "      <th>Gender</th>\n",
       "      <th>Count</th>\n",
       "      <th>%</th>\n",
       "    </tr>\n",
       "  </thead>\n",
       "  <tbody>\n",
       "    <tr>\n",
       "      <th>0</th>\n",
       "      <td>Male</td>\n",
       "      <td>200576818</td>\n",
       "      <td>0.621532</td>\n",
       "    </tr>\n",
       "    <tr>\n",
       "      <th>1</th>\n",
       "      <td>Female</td>\n",
       "      <td>122136776</td>\n",
       "      <td>0.378468</td>\n",
       "    </tr>\n",
       "  </tbody>\n",
       "</table>\n",
       "</div>"
      ],
      "text/plain": [
       "   Gender      Count         %\n",
       "0    Male  200576818  0.621532\n",
       "1  Female  122136776  0.378468"
      ]
     },
     "execution_count": 14,
     "metadata": {},
     "output_type": "execute_result"
    }
   ],
   "source": [
    "df_gender = pd.DataFrame({'Gender':['Male', 'Female']})      # A new dataframe that includes only the datas of column Male and Female\n",
    "df_gender['Count'] = df_gender['Gender'].apply(lambda x: new_df[x].sum())           # To find the total no. of male and female buyers\n",
    "df_gender['%'] = df_gender['Count'].apply(lambda x: x/df_gender['Count'].sum())     # To find the percentage value of the count\n",
    "df_gender"
   ]
  },
  {
   "cell_type": "code",
   "execution_count": 15,
   "id": "f2d4a1ce",
   "metadata": {},
   "outputs": [
    {
     "data": {
      "image/png": "[encoded data removed]",
      "text/plain": [
       "<Figure size 432x288 with 1 Axes>"
      ]
     },
     "metadata": {},
     "output_type": "display_data"
    }
   ],
   "source": [
    "# Pie charts is used for showing the relationship of parts to the whole when there are a small number of levels.\n",
    "plt.pie(df_gender['%'],labels = df_gender['Gender'],autopct='%1.1f%%')\n",
    "plt.legend()\n",
    "plt.title(\"Percentage on which gender bought the maximum no. of cars\")\n",
    "plt.show()"
   ]
  },
  {
   "cell_type": "code",
   "execution_count": 16,
   "id": "4305aef4",
   "metadata": {},
   "outputs": [],
   "source": [
    "# List of all luxury car brands from the dataset\n",
    "lxry = [\"Audi\",\"Mercedes\",\"Volvo\",\"BMW\",\"Alfa-Romeo\",\"Porsche\",\"Rover\",\"Land Rover\",\"Jaguar\",\n",
    "                    \"Lotus\",\"Aston-Martin\",\"Triumph\",\"Mini\",\"Lexus\",\"Ferrari\",\"Bentley\",\"Maserati\"]"
   ]
  },
  {
   "cell_type": "code",
   "execution_count": 17,
   "id": "7ca761e5",
   "metadata": {},
   "outputs": [],
   "source": [
    "# A new dataframe with details of only the brands that are in the list 'lxry'\n",
    "luxury_cars = new_df[new_df[\"Manufacturer\"].isin(lxry)]"
   ]
  },
  {
   "cell_type": "code",
   "execution_count": 18,
   "id": "662f7fd5",
   "metadata": {
    "scrolled": false
   },
   "outputs": [
    {
     "name": "stderr",
     "output_type": "stream",
     "text": [
      "/var/folders/1k/2dy8_tcd6tn7smj8lh3zjqkw0000gn/T/ipykernel_12723/3765354270.py:1: FutureWarning: Indexing with multiple keys (implicitly converted to a tuple of keys) will be deprecated, use a list instead.\n",
      "  top_lxry_buys = luxury_cars.groupby(['Model','Manufacturer'], as_index=False)['Fuel','Price','Male', 'Female','Total'].sum()\n"
     ]
    }
   ],
   "source": [
    "top_lxry_buys = luxury_cars.groupby(['Model','Manufacturer'], as_index=False)['Fuel','Price','Male', 'Female','Total'].sum()"
   ]
  },
  {
   "cell_type": "code",
   "execution_count": 19,
   "id": "22bb78dc",
   "metadata": {},
   "outputs": [
    {
     "data": {
      "image/png": "[encoded data removed]",
      "text/plain": [
       "<Figure size 1080x504 with 1 Axes>"
      ]
     },
     "metadata": {
      "needs_background": "light"
     },
     "output_type": "display_data"
    }
   ],
   "source": [
    "# Stacked Bar Graphs are used to show how a larger category is divided into smaller categories and what the relationship of each part has on the total amount.\n",
    "top_lxry_model = top_lxry_buys.sort_values('Total',ascending = False).head(20).pivot_table(index = 'Manufacturer',\n",
    "                 margins = True,aggfunc = np.sum,columns = 'Model',values = 'Total').sort_values('All',ascending = False)\n",
    "fig,ax = plt.subplots(figsize = (15,7))\n",
    "top_lxry_model.iloc[1:,:-1].plot(kind = 'bar', stacked = 'True', ax = ax, cmap = 'magma', edgecolor = 'black')\n",
    "ax.set_title('Top luxury car models', fontsize = 15);"
   ]
  },
  {
   "cell_type": "code",
   "execution_count": 20,
   "id": "9dca5e94",
   "metadata": {},
   "outputs": [
    {
     "data": {
      "text/html": [
       "<div>\n",
       "<style scoped>\n",
       "    .dataframe tbody tr th:only-of-type {\n",
       "        vertical-align: middle;\n",
       "    }\n",
       "\n",
       "    .dataframe tbody tr th {\n",
       "        vertical-align: top;\n",
       "    }\n",
       "\n",
       "    .dataframe thead th {\n",
       "        text-align: right;\n",
       "    }\n",
       "</style>\n",
       "<table border=\"1\" class=\"dataframe\">\n",
       "  <thead>\n",
       "    <tr style=\"text-align: right;\">\n",
       "      <th></th>\n",
       "      <th>Model</th>\n",
       "      <th>Manufacturer</th>\n",
       "      <th>Price</th>\n",
       "      <th>Male</th>\n",
       "      <th>Female</th>\n",
       "      <th>Total</th>\n",
       "    </tr>\n",
       "  </thead>\n",
       "  <tbody>\n",
       "    <tr>\n",
       "      <th>0</th>\n",
       "      <td>100</td>\n",
       "      <td>Audi</td>\n",
       "      <td>37.326360</td>\n",
       "      <td>290434</td>\n",
       "      <td>55293</td>\n",
       "      <td>359404</td>\n",
       "    </tr>\n",
       "    <tr>\n",
       "      <th>1</th>\n",
       "      <td>118i</td>\n",
       "      <td>BMW</td>\n",
       "      <td>37.426500</td>\n",
       "      <td>454389</td>\n",
       "      <td>393075</td>\n",
       "      <td>899394</td>\n",
       "    </tr>\n",
       "    <tr>\n",
       "      <th>2</th>\n",
       "      <td>145</td>\n",
       "      <td>Alfa-Romeo</td>\n",
       "      <td>17.427143</td>\n",
       "      <td>29993</td>\n",
       "      <td>11855</td>\n",
       "      <td>44034</td>\n",
       "    </tr>\n",
       "    <tr>\n",
       "      <th>3</th>\n",
       "      <td>146</td>\n",
       "      <td>Alfa-Romeo</td>\n",
       "      <td>18.198429</td>\n",
       "      <td>40928</td>\n",
       "      <td>14231</td>\n",
       "      <td>58128</td>\n",
       "    </tr>\n",
       "  </tbody>\n",
       "</table>\n",
       "</div>"
      ],
      "text/plain": [
       "  Model Manufacturer      Price    Male  Female   Total\n",
       "0   100         Audi  37.326360  290434   55293  359404\n",
       "1  118i          BMW  37.426500  454389  393075  899394\n",
       "2   145   Alfa-Romeo  17.427143   29993   11855   44034\n",
       "3   146   Alfa-Romeo  18.198429   40928   14231   58128"
      ]
     },
     "execution_count": 20,
     "metadata": {},
     "output_type": "execute_result"
    }
   ],
   "source": [
    "# Shows 4 highest sold car brand\n",
    "top_lxry_buys.head(4)"
   ]
  },
  {
   "cell_type": "code",
   "execution_count": 21,
   "id": "a18f6be1",
   "metadata": {},
   "outputs": [
    {
     "data": {
      "text/html": [
       "<div>\n",
       "<style scoped>\n",
       "    .dataframe tbody tr th:only-of-type {\n",
       "        vertical-align: middle;\n",
       "    }\n",
       "\n",
       "    .dataframe tbody tr th {\n",
       "        vertical-align: top;\n",
       "    }\n",
       "\n",
       "    .dataframe thead th {\n",
       "        text-align: right;\n",
       "    }\n",
       "</style>\n",
       "<table border=\"1\" class=\"dataframe\">\n",
       "  <thead>\n",
       "    <tr style=\"text-align: right;\">\n",
       "      <th></th>\n",
       "      <th>Model</th>\n",
       "      <th>Manufacturer</th>\n",
       "      <th>Price</th>\n",
       "      <th>Male</th>\n",
       "      <th>Female</th>\n",
       "      <th>Total</th>\n",
       "    </tr>\n",
       "  </thead>\n",
       "  <tbody>\n",
       "    <tr>\n",
       "      <th>120</th>\n",
       "      <td>XK</td>\n",
       "      <td>Jaguar</td>\n",
       "      <td>145.646667</td>\n",
       "      <td>177439</td>\n",
       "      <td>28043</td>\n",
       "      <td>215339</td>\n",
       "    </tr>\n",
       "    <tr>\n",
       "      <th>121</th>\n",
       "      <td>XKR</td>\n",
       "      <td>Jaguar</td>\n",
       "      <td>171.133333</td>\n",
       "      <td>22692</td>\n",
       "      <td>2813</td>\n",
       "      <td>26749</td>\n",
       "    </tr>\n",
       "    <tr>\n",
       "      <th>122</th>\n",
       "      <td>Z3</td>\n",
       "      <td>BMW</td>\n",
       "      <td>39.737400</td>\n",
       "      <td>155627</td>\n",
       "      <td>107143</td>\n",
       "      <td>280810</td>\n",
       "    </tr>\n",
       "    <tr>\n",
       "      <th>123</th>\n",
       "      <td>Z4</td>\n",
       "      <td>BMW</td>\n",
       "      <td>64.109625</td>\n",
       "      <td>126746</td>\n",
       "      <td>59357</td>\n",
       "      <td>198718</td>\n",
       "    </tr>\n",
       "  </tbody>\n",
       "</table>\n",
       "</div>"
      ],
      "text/plain": [
       "    Model Manufacturer       Price    Male  Female   Total\n",
       "120    XK       Jaguar  145.646667  177439   28043  215339\n",
       "121   XKR       Jaguar  171.133333   22692    2813   26749\n",
       "122    Z3          BMW   39.737400  155627  107143  280810\n",
       "123    Z4          BMW   64.109625  126746   59357  198718"
      ]
     },
     "execution_count": 21,
     "metadata": {},
     "output_type": "execute_result"
    }
   ],
   "source": [
    "# Shows 4 lowest sold car brand\n",
    "top_lxry_buys.tail(4)"
   ]
  },
  {
   "cell_type": "code",
   "execution_count": 22,
   "id": "0718124f",
   "metadata": {},
   "outputs": [],
   "source": [
    "# List of all commercial car brands from the dataset\n",
    "cmmercl = [\"Ford\",\"Peugeot\",\"Toyota\",\"Fiat\",\"Volkswagen\",\"Nissan\",\"Renault\",\"Honda\",\"Mazda\",\"Citroen\",\"Hyundai\",\"Suzuki\",\"Mitsubishi\",\"Kia\",\"Seat\",\"Skoda\",\"Suburu\",\"Saab\",\"Chrysler\",\"Daewoo\",\"Chevrolet\",\"Daimler\",\"Daihatsu\",\"MG\",\"Smart\",\"Lancia\",\n",
    "           \"Ssangyong\",\"Datsun\",\"Lada\",\"Dodge\",\"Morris\",\"TVR\",\"Abarth\",\"Dacia\"]"
   ]
  },
  {
   "cell_type": "code",
   "execution_count": 23,
   "id": "63b27f0c",
   "metadata": {},
   "outputs": [],
   "source": [
    "# A new dataframe with details of only the brands that are in the list 'cmmercl'\n",
    "commercial_cars = new_df[new_df[\"Manufacturer\"].isin(cmmercl)]"
   ]
  },
  {
   "cell_type": "code",
   "execution_count": 24,
   "id": "a866551c",
   "metadata": {},
   "outputs": [
    {
     "data": {
      "text/html": [
       "<div>\n",
       "<style scoped>\n",
       "    .dataframe tbody tr th:only-of-type {\n",
       "        vertical-align: middle;\n",
       "    }\n",
       "\n",
       "    .dataframe tbody tr th {\n",
       "        vertical-align: top;\n",
       "    }\n",
       "\n",
       "    .dataframe thead th {\n",
       "        text-align: right;\n",
       "    }\n",
       "</style>\n",
       "<table border=\"1\" class=\"dataframe\">\n",
       "  <thead>\n",
       "    <tr style=\"text-align: right;\">\n",
       "      <th></th>\n",
       "      <th>Manufacturer</th>\n",
       "      <th>Model</th>\n",
       "      <th>Price</th>\n",
       "      <th>Transmission</th>\n",
       "      <th>Power</th>\n",
       "      <th>Engine CC</th>\n",
       "      <th>Fuel</th>\n",
       "      <th>Male</th>\n",
       "      <th>Female</th>\n",
       "      <th>Total</th>\n",
       "    </tr>\n",
       "  </thead>\n",
       "  <tbody>\n",
       "    <tr>\n",
       "      <th>0</th>\n",
       "      <td>Abarth</td>\n",
       "      <td>500C</td>\n",
       "      <td>21.105625</td>\n",
       "      <td>5.000000</td>\n",
       "      <td>60.625000</td>\n",
       "      <td>1039.500000</td>\n",
       "      <td>petrol</td>\n",
       "      <td>7124</td>\n",
       "      <td>4719</td>\n",
       "      <td>12413</td>\n",
       "    </tr>\n",
       "    <tr>\n",
       "      <th>56</th>\n",
       "      <td>Chevrolet</td>\n",
       "      <td>Aveo</td>\n",
       "      <td>18.615000</td>\n",
       "      <td>5.200000</td>\n",
       "      <td>69.600000</td>\n",
       "      <td>1330.400000</td>\n",
       "      <td>petrol</td>\n",
       "      <td>23735</td>\n",
       "      <td>22648</td>\n",
       "      <td>48696</td>\n",
       "    </tr>\n",
       "    <tr>\n",
       "      <th>57</th>\n",
       "      <td>Chevrolet</td>\n",
       "      <td>Captiva</td>\n",
       "      <td>55.620000</td>\n",
       "      <td>6.000000</td>\n",
       "      <td>145.750000</td>\n",
       "      <td>2460.750000</td>\n",
       "      <td>petrol</td>\n",
       "      <td>20258</td>\n",
       "      <td>10526</td>\n",
       "      <td>32406</td>\n",
       "    </tr>\n",
       "    <tr>\n",
       "      <th>58</th>\n",
       "      <td>Chevrolet</td>\n",
       "      <td>Cruze</td>\n",
       "      <td>28.170000</td>\n",
       "      <td>5.583333</td>\n",
       "      <td>103.000000</td>\n",
       "      <td>1706.333333</td>\n",
       "      <td>petrol</td>\n",
       "      <td>8445</td>\n",
       "      <td>2509</td>\n",
       "      <td>11476</td>\n",
       "    </tr>\n",
       "    <tr>\n",
       "      <th>59</th>\n",
       "      <td>Chevrolet</td>\n",
       "      <td>Kalos</td>\n",
       "      <td>14.224091</td>\n",
       "      <td>4.727273</td>\n",
       "      <td>64.454545</td>\n",
       "      <td>1353.363636</td>\n",
       "      <td>petrol</td>\n",
       "      <td>46461</td>\n",
       "      <td>47446</td>\n",
       "      <td>98871</td>\n",
       "    </tr>\n",
       "    <tr>\n",
       "      <th>...</th>\n",
       "      <td>...</td>\n",
       "      <td>...</td>\n",
       "      <td>...</td>\n",
       "      <td>...</td>\n",
       "      <td>...</td>\n",
       "      <td>...</td>\n",
       "      <td>...</td>\n",
       "      <td>...</td>\n",
       "      <td>...</td>\n",
       "      <td>...</td>\n",
       "    </tr>\n",
       "    <tr>\n",
       "      <th>480</th>\n",
       "      <td>Volkswagen</td>\n",
       "      <td>Touareg</td>\n",
       "      <td>94.098125</td>\n",
       "      <td>8.000000</td>\n",
       "      <td>190.000000</td>\n",
       "      <td>2967.000000</td>\n",
       "      <td>diesel</td>\n",
       "      <td>86872</td>\n",
       "      <td>30965</td>\n",
       "      <td>123040</td>\n",
       "    </tr>\n",
       "    <tr>\n",
       "      <th>481</th>\n",
       "      <td>Volkswagen</td>\n",
       "      <td>Touran</td>\n",
       "      <td>32.985577</td>\n",
       "      <td>6.230769</td>\n",
       "      <td>94.038462</td>\n",
       "      <td>1528.807692</td>\n",
       "      <td>diesel</td>\n",
       "      <td>241607</td>\n",
       "      <td>143740</td>\n",
       "      <td>411234</td>\n",
       "    </tr>\n",
       "    <tr>\n",
       "      <th>482</th>\n",
       "      <td>Volkswagen</td>\n",
       "      <td>Transporter</td>\n",
       "      <td>35.376458</td>\n",
       "      <td>6.000000</td>\n",
       "      <td>103.083333</td>\n",
       "      <td>1968.000000</td>\n",
       "      <td>diesel</td>\n",
       "      <td>12198</td>\n",
       "      <td>3198</td>\n",
       "      <td>16254</td>\n",
       "    </tr>\n",
       "    <tr>\n",
       "      <th>483</th>\n",
       "      <td>Volkswagen</td>\n",
       "      <td>Up</td>\n",
       "      <td>17.065625</td>\n",
       "      <td>5.125000</td>\n",
       "      <td>51.375000</td>\n",
       "      <td>999.000000</td>\n",
       "      <td>petrol</td>\n",
       "      <td>14600</td>\n",
       "      <td>25079</td>\n",
       "      <td>41185</td>\n",
       "    </tr>\n",
       "    <tr>\n",
       "      <th>484</th>\n",
       "      <td>Volkswagen</td>\n",
       "      <td>Vento</td>\n",
       "      <td>18.167154</td>\n",
       "      <td>4.692308</td>\n",
       "      <td>70.307692</td>\n",
       "      <td>1932.153846</td>\n",
       "      <td>petrol</td>\n",
       "      <td>92436</td>\n",
       "      <td>27701</td>\n",
       "      <td>126067</td>\n",
       "    </tr>\n",
       "  </tbody>\n",
       "</table>\n",
       "<p>361 rows × 10 columns</p>\n",
       "</div>"
      ],
      "text/plain": [
       "    Manufacturer        Model      Price  Transmission       Power  \\\n",
       "0         Abarth         500C  21.105625      5.000000   60.625000   \n",
       "56     Chevrolet         Aveo  18.615000      5.200000   69.600000   \n",
       "57     Chevrolet      Captiva  55.620000      6.000000  145.750000   \n",
       "58     Chevrolet        Cruze  28.170000      5.583333  103.000000   \n",
       "59     Chevrolet        Kalos  14.224091      4.727273   64.454545   \n",
       "..           ...          ...        ...           ...         ...   \n",
       "480   Volkswagen      Touareg  94.098125      8.000000  190.000000   \n",
       "481   Volkswagen       Touran  32.985577      6.230769   94.038462   \n",
       "482   Volkswagen  Transporter  35.376458      6.000000  103.083333   \n",
       "483   Volkswagen           Up  17.065625      5.125000   51.375000   \n",
       "484   Volkswagen        Vento  18.167154      4.692308   70.307692   \n",
       "\n",
       "       Engine CC    Fuel    Male  Female   Total  \n",
       "0    1039.500000  petrol    7124    4719   12413  \n",
       "56   1330.400000  petrol   23735   22648   48696  \n",
       "57   2460.750000  petrol   20258   10526   32406  \n",
       "58   1706.333333  petrol    8445    2509   11476  \n",
       "59   1353.363636  petrol   46461   47446   98871  \n",
       "..           ...     ...     ...     ...     ...  \n",
       "480  2967.000000  diesel   86872   30965  123040  \n",
       "481  1528.807692  diesel  241607  143740  411234  \n",
       "482  1968.000000  diesel   12198    3198   16254  \n",
       "483   999.000000  petrol   14600   25079   41185  \n",
       "484  1932.153846  petrol   92436   27701  126067  \n",
       "\n",
       "[361 rows x 10 columns]"
      ]
     },
     "execution_count": 24,
     "metadata": {},
     "output_type": "execute_result"
    }
   ],
   "source": [
    "commercial_cars"
   ]
  },
  {
   "cell_type": "code",
   "execution_count": 25,
   "id": "8f7a9ebf",
   "metadata": {},
   "outputs": [
    {
     "name": "stderr",
     "output_type": "stream",
     "text": [
      "/var/folders/1k/2dy8_tcd6tn7smj8lh3zjqkw0000gn/T/ipykernel_12723/3685860937.py:1: FutureWarning: Indexing with multiple keys (implicitly converted to a tuple of keys) will be deprecated, use a list instead.\n",
      "  top_comrcl_buys = commercial_cars.groupby(['Model','Manufacturer'], as_index=False)['Fuel','Price','Male', 'Female','Total'].sum()\n"
     ]
    }
   ],
   "source": [
    "top_comrcl_buys = commercial_cars.groupby(['Model','Manufacturer'], as_index=False)['Fuel','Price','Male', 'Female','Total'].sum()"
   ]
  },
  {
   "cell_type": "code",
   "execution_count": 26,
   "id": "0c5dfdf9",
   "metadata": {},
   "outputs": [
    {
     "data": {
      "text/html": [
       "<div>\n",
       "<style scoped>\n",
       "    .dataframe tbody tr th:only-of-type {\n",
       "        vertical-align: middle;\n",
       "    }\n",
       "\n",
       "    .dataframe tbody tr th {\n",
       "        vertical-align: top;\n",
       "    }\n",
       "\n",
       "    .dataframe thead th {\n",
       "        text-align: right;\n",
       "    }\n",
       "</style>\n",
       "<table border=\"1\" class=\"dataframe\">\n",
       "  <thead>\n",
       "    <tr style=\"text-align: right;\">\n",
       "      <th></th>\n",
       "      <th>Model</th>\n",
       "      <th>Manufacturer</th>\n",
       "      <th>Price</th>\n",
       "      <th>Male</th>\n",
       "      <th>Female</th>\n",
       "      <th>Total</th>\n",
       "    </tr>\n",
       "  </thead>\n",
       "  <tbody>\n",
       "    <tr>\n",
       "      <th>0</th>\n",
       "      <td>09-May</td>\n",
       "      <td>Saab</td>\n",
       "      <td>52.957194</td>\n",
       "      <td>374012</td>\n",
       "      <td>70387</td>\n",
       "      <td>471084</td>\n",
       "    </tr>\n",
       "    <tr>\n",
       "      <th>1</th>\n",
       "      <td>1007</td>\n",
       "      <td>Peugeot</td>\n",
       "      <td>18.657000</td>\n",
       "      <td>23987</td>\n",
       "      <td>24239</td>\n",
       "      <td>50864</td>\n",
       "    </tr>\n",
       "    <tr>\n",
       "      <th>2</th>\n",
       "      <td>104</td>\n",
       "      <td>Peugeot</td>\n",
       "      <td>7.508333</td>\n",
       "      <td>5736</td>\n",
       "      <td>4970</td>\n",
       "      <td>10999</td>\n",
       "    </tr>\n",
       "    <tr>\n",
       "      <th>3</th>\n",
       "      <td>105</td>\n",
       "      <td>Skoda</td>\n",
       "      <td>4.626333</td>\n",
       "      <td>13619</td>\n",
       "      <td>7141</td>\n",
       "      <td>21131</td>\n",
       "    </tr>\n",
       "  </tbody>\n",
       "</table>\n",
       "</div>"
      ],
      "text/plain": [
       "    Model Manufacturer      Price    Male  Female   Total\n",
       "0  09-May         Saab  52.957194  374012   70387  471084\n",
       "1    1007      Peugeot  18.657000   23987   24239   50864\n",
       "2     104      Peugeot   7.508333    5736    4970   10999\n",
       "3     105        Skoda   4.626333   13619    7141   21131"
      ]
     },
     "execution_count": 26,
     "metadata": {},
     "output_type": "execute_result"
    }
   ],
   "source": [
    "# Shows 4 highest sold car brand\n",
    "top_comrcl_buys.head(4)"
   ]
  },
  {
   "cell_type": "code",
   "execution_count": 27,
   "id": "5b69f0e2",
   "metadata": {},
   "outputs": [
    {
     "data": {
      "text/html": [
       "<div>\n",
       "<style scoped>\n",
       "    .dataframe tbody tr th:only-of-type {\n",
       "        vertical-align: middle;\n",
       "    }\n",
       "\n",
       "    .dataframe tbody tr th {\n",
       "        vertical-align: top;\n",
       "    }\n",
       "\n",
       "    .dataframe thead th {\n",
       "        text-align: right;\n",
       "    }\n",
       "</style>\n",
       "<table border=\"1\" class=\"dataframe\">\n",
       "  <thead>\n",
       "    <tr style=\"text-align: right;\">\n",
       "      <th></th>\n",
       "      <th>Model</th>\n",
       "      <th>Manufacturer</th>\n",
       "      <th>Price</th>\n",
       "      <th>Male</th>\n",
       "      <th>Female</th>\n",
       "      <th>Total</th>\n",
       "    </tr>\n",
       "  </thead>\n",
       "  <tbody>\n",
       "    <tr>\n",
       "      <th>357</th>\n",
       "      <td>ZR</td>\n",
       "      <td>MG</td>\n",
       "      <td>21.023333</td>\n",
       "      <td>284720</td>\n",
       "      <td>169018</td>\n",
       "      <td>470749</td>\n",
       "    </tr>\n",
       "    <tr>\n",
       "      <th>358</th>\n",
       "      <td>ZS</td>\n",
       "      <td>MG</td>\n",
       "      <td>30.990000</td>\n",
       "      <td>142161</td>\n",
       "      <td>37318</td>\n",
       "      <td>184882</td>\n",
       "    </tr>\n",
       "    <tr>\n",
       "      <th>359</th>\n",
       "      <td>ZT</td>\n",
       "      <td>MG</td>\n",
       "      <td>42.746667</td>\n",
       "      <td>140087</td>\n",
       "      <td>21114</td>\n",
       "      <td>166236</td>\n",
       "    </tr>\n",
       "    <tr>\n",
       "      <th>360</th>\n",
       "      <td>ZX</td>\n",
       "      <td>Citroen</td>\n",
       "      <td>16.056769</td>\n",
       "      <td>973176</td>\n",
       "      <td>484226</td>\n",
       "      <td>1527439</td>\n",
       "    </tr>\n",
       "  </tbody>\n",
       "</table>\n",
       "</div>"
      ],
      "text/plain": [
       "    Model Manufacturer      Price    Male  Female    Total\n",
       "357    ZR           MG  21.023333  284720  169018   470749\n",
       "358    ZS           MG  30.990000  142161   37318   184882\n",
       "359    ZT           MG  42.746667  140087   21114   166236\n",
       "360    ZX      Citroen  16.056769  973176  484226  1527439"
      ]
     },
     "execution_count": 27,
     "metadata": {},
     "output_type": "execute_result"
    }
   ],
   "source": [
    "# Shows 4 lowest sold car brand\n",
    "top_comrcl_buys.tail(4)"
   ]
  },
  {
   "cell_type": "code",
   "execution_count": 28,
   "id": "27b9646e",
   "metadata": {},
   "outputs": [
    {
     "data": {
      "image/png": "[encoded data removed]",
      "text/plain": [
       "<Figure size 1080x504 with 1 Axes>"
      ]
     },
     "metadata": {
      "needs_background": "light"
     },
     "output_type": "display_data"
    }
   ],
   "source": [
    "# Stacked Bar Graphs are used to show how a larger category is divided into smaller categories and what the relationship of each part has on the total amount.\n",
    "top_comrcl_model = top_comrcl_buys.sort_values('Total',ascending = False).head(20).pivot_table(index = 'Manufacturer',\n",
    "                 margins = True,aggfunc = np.sum,columns = 'Model',values = 'Total').sort_values('All',ascending = False)\n",
    "fig,ax = plt.subplots(figsize = (15,7))\n",
    "top_comrcl_model.iloc[1:,:-1].plot(kind = 'bar', stacked = 'True', ax = ax, cmap = 'magma', edgecolor = 'black')\n",
    "ax.set_title('Top commercial car models', fontsize = 15);"
   ]
  },
  {
   "cell_type": "code",
   "execution_count": null,
   "id": "eb71a9b8",
   "metadata": {},
   "outputs": [],
   "source": []
  }
 ],
 "metadata": {
  "kernelspec": {
   "display_name": "Python 3 (ipykernel)",
   "language": "python",
   "name": "python3"
  },
  "language_info": {
   "codemirror_mode": {
    "name": "ipython",
    "version": 3
   },
   "file_extension": ".py",
   "mimetype": "text/x-python",
   "name": "python",
   "nbconvert_exporter": "python",
   "pygments_lexer": "ipython3",
   "version": "3.9.7"
  }
 },
 "nbformat": 4,
 "nbformat_minor": 5
}
